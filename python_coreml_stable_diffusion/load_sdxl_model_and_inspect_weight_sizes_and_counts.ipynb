{
 "cells": [
  {
   "cell_type": "code",
   "execution_count": 1,
   "metadata": {},
   "outputs": [],
   "source": [
    "from diffusers import StableDiffusionXLPipeline\n",
    "import torch\n",
    "from collections import OrderedDict\n",
    "from collections import defaultdict\n",
    "import yaml "
   ]
  },
  {
   "cell_type": "code",
   "execution_count": 2,
   "metadata": {},
   "outputs": [],
   "source": [
    "def _convert_shape_tuple_to_str(shape):\n",
    "    separator = ', '\n",
    "    result_string = \"(\" + separator.join(map(str, shape)) + \")\"\n",
    "    return result_string"
   ]
  },
  {
   "cell_type": "code",
   "execution_count": 3,
   "metadata": {},
   "outputs": [
    {
     "data": {
      "application/vnd.jupyter.widget-view+json": {
       "model_id": "9c7785d15c204e678d9c8a5a06211247",
       "version_major": 2,
       "version_minor": 0
      },
      "text/plain": [
       "Loading pipeline components...:   0%|          | 0/7 [00:00<?, ?it/s]"
      ]
     },
     "metadata": {},
     "output_type": "display_data"
    }
   ],
   "source": [
    "pipeline = StableDiffusionXLPipeline.from_pretrained(\n",
    "    \"stabilityai/stable-diffusion-xl-base-1.0\", torch_dtype=torch.float16, variant=\"fp16\", use_safetensors=True\n",
    ")"
   ]
  },
  {
   "cell_type": "code",
   "execution_count": 4,
   "metadata": {},
   "outputs": [],
   "source": [
    "# for i, item in enumerate([item for item in dir(pipeline) if not item.startswith('_')]):\n",
    "#     print(\"{} : {}\".format(i, item))"
   ]
  },
  {
   "cell_type": "code",
   "execution_count": 5,
   "metadata": {},
   "outputs": [
    {
     "name": "stdout",
     "output_type": "stream",
     "text": [
      "<class 'diffusers.models.unet_2d_condition.UNet2DConditionModel'>\n"
     ]
    }
   ],
   "source": [
    "print(type(pipeline.unet))"
   ]
  },
  {
   "cell_type": "code",
   "execution_count": 6,
   "metadata": {},
   "outputs": [],
   "source": [
    "state_dict = pipeline.unet.state_dict()"
   ]
  },
  {
   "cell_type": "code",
   "execution_count": 7,
   "metadata": {},
   "outputs": [],
   "source": [
    "weights_state_dict = OrderedDict()\n",
    "for key in state_dict.keys():\n",
    "    if key.endswith(\".weight\"):\n",
    "        if len(state_dict[key].shape) > 1:\n",
    "            weights_state_dict[key] = state_dict[key]"
   ]
  },
  {
   "cell_type": "code",
   "execution_count": 8,
   "metadata": {},
   "outputs": [
    {
     "name": "stdout",
     "output_type": "stream",
     "text": [
      "794\n"
     ]
    },
    {
     "data": {
      "text/plain": [
       "(320, 4, 3, 3)"
      ]
     },
     "execution_count": 8,
     "metadata": {},
     "output_type": "execute_result"
    }
   ],
   "source": [
    "print(len(weights_state_dict))\n",
    "tuple(list(weights_state_dict.values())[0].shape)"
   ]
  },
  {
   "cell_type": "code",
   "execution_count": 9,
   "metadata": {},
   "outputs": [],
   "source": [
    "weights_info_hierarchical = dict()\n",
    "weights_info_flat = dict()\n",
    "\n",
    "for i, key in enumerate(weights_state_dict.keys()):\n",
    "    v = weights_state_dict[key]\n",
    "    weight_size = torch.numel(v) / 1e6\n",
    "    shape = tuple(v.shape)\n",
    "    shape_string = _convert_shape_tuple_to_str(shape)\n",
    "    #print(\"{}: {} : {:.2f}M : {}\".format(i, key, weight_size, shape))\n",
    "    weight_identifier = key.split(\".\")[0]\n",
    "\n",
    "    if weight_identifier not in weights_info_hierarchical:\n",
    "        weights_info_hierarchical[weight_identifier] = dict()\n",
    "\n",
    "    if shape_string not in weights_info_hierarchical[weight_identifier]:\n",
    "        weights_info_hierarchical[weight_identifier][shape_string] = {\"count\": 0, \"numel\": 0}\n",
    "\n",
    "    if shape_string not in weights_info_flat:\n",
    "        weights_info_flat[shape_string] = {\"count\": 0, \"numel\": 0}\n",
    "\n",
    "    weights_info_hierarchical[weight_identifier][shape_string][\"count\"] += 1\n",
    "    weights_info_hierarchical[weight_identifier][shape_string][\"numel\"] = weight_size    \n",
    "     \n",
    "    weights_info_flat[shape_string][\"count\"] += 1\n",
    "    weights_info_flat[shape_string][\"numel\"] = weight_size\n"
   ]
  },
  {
   "cell_type": "code",
   "execution_count": 10,
   "metadata": {},
   "outputs": [],
   "source": [
    "with open(\"weights_info_hierarchical.yaml\", 'w') as yaml_file:\n",
    "    yaml.dump(weights_info_hierarchical, yaml_file, default_flow_style=False)\n",
    "\n",
    "with open(\"weights_info_flat.yaml\", 'w') as yaml_file:\n",
    "    yaml.dump(weights_info_flat, yaml_file, default_flow_style=False)"
   ]
  },
  {
   "cell_type": "code",
   "execution_count": 20,
   "metadata": {},
   "outputs": [
    {
     "name": "stdout",
     "output_type": "stream",
     "text": [
      "shape : (1280, 2560, 3, 3), count = 2, size: 29.49M\n",
      "shape : (1280, 1920, 3, 3), count = 1, size: 22.12M\n",
      "shape : (1280, 1280, 3, 3), count = 11, size: 14.75M\n",
      "shape : (10240, 1280), count = 60, size: 13.11M\n",
      "shape : (640, 1920, 3, 3), count = 1, size: 11.06M\n",
      "shape : (1280, 640, 3, 3), count = 1, size: 7.37M\n",
      "shape : (640, 1280, 3, 3), count = 1, size: 7.37M\n",
      "shape : (1280, 5120), count = 60, size: 6.55M\n",
      "shape : (640, 960, 3, 3), count = 1, size: 5.53M\n",
      "shape : (640, 640, 3, 3), count = 8, size: 3.69M\n",
      "shape : (1280, 2816), count = 1, size: 3.60M\n",
      "shape : (5120, 640), count = 10, size: 3.28M\n",
      "shape : (1280, 2560, 1, 1), count = 2, size: 3.28M\n",
      "shape : (320, 960, 3, 3), count = 1, size: 2.76M\n",
      "shape : (1280, 2048), count = 120, size: 2.62M\n",
      "shape : (1280, 1920, 1, 1), count = 1, size: 2.46M\n",
      "shape : (640, 320, 3, 3), count = 1, size: 1.84M\n",
      "shape : (320, 640, 3, 3), count = 2, size: 1.84M\n",
      "shape : (1280, 1280), count = 381, size: 1.64M\n",
      "shape : (640, 2560), count = 10, size: 1.64M\n",
      "shape : (640, 2048), count = 20, size: 1.31M\n",
      "shape : (640, 1920, 1, 1), count = 1, size: 1.23M\n",
      "shape : (320, 320, 3, 3), count = 8, size: 0.92M\n",
      "shape : (640, 1280), count = 5, size: 0.82M\n",
      "shape : (1280, 640, 1, 1), count = 1, size: 0.82M\n",
      "shape : (640, 1280, 1, 1), count = 1, size: 0.82M\n",
      "shape : (640, 960, 1, 1), count = 1, size: 0.61M\n",
      "shape : (1280, 320), count = 1, size: 0.41M\n",
      "shape : (320, 1280), count = 5, size: 0.41M\n",
      "shape : (640, 640), count = 70, size: 0.41M\n",
      "shape : (320, 960, 1, 1), count = 1, size: 0.31M\n",
      "shape : (640, 320, 1, 1), count = 1, size: 0.20M\n",
      "shape : (320, 640, 1, 1), count = 2, size: 0.20M\n",
      "shape : (320, 4, 3, 3), count = 1, size: 0.01M\n",
      "shape : (4, 320, 3, 3), count = 1, size: 0.01M\n"
     ]
    }
   ],
   "source": [
    "list_of_shapes = []\n",
    "list_of_counts = []\n",
    "list_of_sizes = []\n",
    "for shape_str in weights_info_flat.keys():\n",
    "    list_of_shapes.append(shape_str)\n",
    "    list_of_counts.append(weights_info_flat[shape_str][\"count\"])\n",
    "    list_of_sizes.append(weights_info_flat[shape_str][\"numel\"])\n",
    "\n",
    "#sorted_indices = sorted(range(len(list_of_counts)), key=lambda i: list_of_counts[i], reverse=True)\n",
    "sorted_indices = sorted(range(len(list_of_counts)), key=lambda i: list_of_sizes[i], reverse=True)\n",
    "\n",
    "list_of_shapes = [list_of_shapes[i] for i in sorted_indices]\n",
    "list_of_counts = [list_of_counts[i] for i in sorted_indices]\n",
    "list_of_sizes = [list_of_sizes[i] for i in sorted_indices]\n",
    "\n",
    "for i in range(len(list_of_shapes)):\n",
    "    print(\"shape : {}, count = {}, size: {:.2f}M\".format(\n",
    "        list_of_shapes[i],\n",
    "        list_of_counts[i],\n",
    "        list_of_sizes[i],\n",
    "    ))"
   ]
  },
  {
   "cell_type": "code",
   "execution_count": null,
   "metadata": {},
   "outputs": [],
   "source": []
  }
 ],
 "metadata": {
  "kernelspec": {
   "display_name": "py39_arm",
   "language": "python",
   "name": "python3"
  },
  "language_info": {
   "codemirror_mode": {
    "name": "ipython",
    "version": 3
   },
   "file_extension": ".py",
   "mimetype": "text/x-python",
   "name": "python",
   "nbconvert_exporter": "python",
   "pygments_lexer": "ipython3",
   "version": "3.9.17"
  }
 },
 "nbformat": 4,
 "nbformat_minor": 2
}
