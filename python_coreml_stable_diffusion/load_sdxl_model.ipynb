{
 "cells": [
  {
   "cell_type": "code",
   "execution_count": 1,
   "metadata": {},
   "outputs": [],
   "source": [
    "from diffusers import StableDiffusionXLPipeline\n",
    "import torch\n",
    "from collections import OrderedDict\n",
    "from collections import defaultdict\n",
    "import yaml "
   ]
  },
  {
   "cell_type": "code",
   "execution_count": 7,
   "metadata": {},
   "outputs": [],
   "source": [
    "def _convert_shape_tuple_to_str(shape):\n",
    "    separator = ', '\n",
    "    result_string = \"(\" + separator.join(map(str, shape)) + \")\"\n",
    "    return result_string"
   ]
  },
  {
   "cell_type": "code",
   "execution_count": 2,
   "metadata": {},
   "outputs": [
    {
     "data": {
      "application/vnd.jupyter.widget-view+json": {
       "model_id": "a1b242f51c0c4666b52bee99251ecfa6",
       "version_major": 2,
       "version_minor": 0
      },
      "text/plain": [
       "Loading pipeline components...:   0%|          | 0/7 [00:00<?, ?it/s]"
      ]
     },
     "metadata": {},
     "output_type": "display_data"
    }
   ],
   "source": [
    "pipeline = StableDiffusionXLPipeline.from_pretrained(\n",
    "    \"stabilityai/stable-diffusion-xl-base-1.0\", torch_dtype=torch.float16, variant=\"fp16\", use_safetensors=True\n",
    ")"
   ]
  },
  {
   "cell_type": "code",
   "execution_count": null,
   "metadata": {},
   "outputs": [],
   "source": [
    "# for i, item in enumerate([item for item in dir(pipeline) if not item.startswith('_')]):\n",
    "#     print(\"{} : {}\".format(i, item))"
   ]
  },
  {
   "cell_type": "code",
   "execution_count": 3,
   "metadata": {},
   "outputs": [
    {
     "name": "stdout",
     "output_type": "stream",
     "text": [
      "<class 'diffusers.models.unet_2d_condition.UNet2DConditionModel'>\n"
     ]
    }
   ],
   "source": [
    "print(type(pipeline.unet))"
   ]
  },
  {
   "cell_type": "code",
   "execution_count": 4,
   "metadata": {},
   "outputs": [],
   "source": [
    "state_dict = pipeline.unet.state_dict()"
   ]
  },
  {
   "cell_type": "code",
   "execution_count": 5,
   "metadata": {},
   "outputs": [],
   "source": [
    "weights_state_dict = OrderedDict()\n",
    "for key in state_dict.keys():\n",
    "    if key.endswith(\".weight\"):\n",
    "        if len(state_dict[key].shape) > 1:\n",
    "            weights_state_dict[key] = state_dict[key]"
   ]
  },
  {
   "cell_type": "code",
   "execution_count": 6,
   "metadata": {},
   "outputs": [
    {
     "name": "stdout",
     "output_type": "stream",
     "text": [
      "794\n"
     ]
    },
    {
     "data": {
      "text/plain": [
       "(320, 4, 3, 3)"
      ]
     },
     "execution_count": 6,
     "metadata": {},
     "output_type": "execute_result"
    }
   ],
   "source": [
    "print(len(weights_state_dict))\n",
    "tuple(list(weights_state_dict.values())[0].shape)"
   ]
  },
  {
   "cell_type": "code",
   "execution_count": 8,
   "metadata": {},
   "outputs": [],
   "source": [
    "weights_info_hierarchical = dict()\n",
    "weights_info_flat = dict()\n",
    "\n",
    "for i, key in enumerate(weights_state_dict.keys()):\n",
    "    v = weights_state_dict[key]\n",
    "    weight_size = torch.numel(v) / 1e6\n",
    "    shape = tuple(v.shape)\n",
    "    shape_string = _convert_shape_tuple_to_str(shape)\n",
    "    #print(\"{}: {} : {:.2f}M : {}\".format(i, key, weight_size, shape))\n",
    "    weight_identifier = key.split(\".\")[0]\n",
    "\n",
    "    if weight_identifier not in weights_info_hierarchical:\n",
    "        weights_info_hierarchical[weight_identifier] = dict()\n",
    "\n",
    "    if shape_string not in weights_info_hierarchical[weight_identifier]:\n",
    "        weights_info_hierarchical[weight_identifier][shape_string] = {\"count\": 0, \"numel\": 0}\n",
    "\n",
    "    weights_info_hierarchical[weight_identifier][shape_string][\"count\"] += 1\n",
    "    weights_info_hierarchical[weight_identifier][shape_string][\"numel\"] = weight_size    \n",
    "     \n"
   ]
  },
  {
   "cell_type": "code",
   "execution_count": 9,
   "metadata": {},
   "outputs": [],
   "source": [
    "with open(\"weights_info_hierarchical.yaml\", 'w') as yaml_file:\n",
    "    yaml.dump(weights_info_hierarchical, yaml_file, default_flow_style=False)"
   ]
  },
  {
   "cell_type": "code",
   "execution_count": null,
   "metadata": {},
   "outputs": [],
   "source": []
  }
 ],
 "metadata": {
  "kernelspec": {
   "display_name": "py39_arm",
   "language": "python",
   "name": "python3"
  },
  "language_info": {
   "codemirror_mode": {
    "name": "ipython",
    "version": 3
   },
   "file_extension": ".py",
   "mimetype": "text/x-python",
   "name": "python",
   "nbconvert_exporter": "python",
   "pygments_lexer": "ipython3",
   "version": "3.9.17"
  }
 },
 "nbformat": 4,
 "nbformat_minor": 2
}
